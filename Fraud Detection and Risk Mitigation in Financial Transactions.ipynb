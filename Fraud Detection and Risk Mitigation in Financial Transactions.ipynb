{
 "cells": [
  {
   "cell_type": "code",
   "execution_count": 2,
   "id": "a8470cfd",
   "metadata": {},
   "outputs": [
    {
     "data": {
      "text/html": [
       "<div>\n",
       "<style scoped>\n",
       "    .dataframe tbody tr th:only-of-type {\n",
       "        vertical-align: middle;\n",
       "    }\n",
       "\n",
       "    .dataframe tbody tr th {\n",
       "        vertical-align: top;\n",
       "    }\n",
       "\n",
       "    .dataframe thead th {\n",
       "        text-align: right;\n",
       "    }\n",
       "</style>\n",
       "<table border=\"1\" class=\"dataframe\">\n",
       "  <thead>\n",
       "    <tr style=\"text-align: right;\">\n",
       "      <th></th>\n",
       "      <th>transaction_id</th>\n",
       "      <th>account_id</th>\n",
       "      <th>amount</th>\n",
       "      <th>timestamp</th>\n",
       "      <th>location</th>\n",
       "      <th>device</th>\n",
       "      <th>account_age</th>\n",
       "      <th>previous_fraud_count</th>\n",
       "      <th>fraud_flag</th>\n",
       "    </tr>\n",
       "  </thead>\n",
       "  <tbody>\n",
       "    <tr>\n",
       "      <th>0</th>\n",
       "      <td>1</td>\n",
       "      <td>4174</td>\n",
       "      <td>5520.36</td>\n",
       "      <td>2024-01-01 00:00:00</td>\n",
       "      <td>Mumbai</td>\n",
       "      <td>ATM</td>\n",
       "      <td>94</td>\n",
       "      <td>1</td>\n",
       "      <td>1</td>\n",
       "    </tr>\n",
       "    <tr>\n",
       "      <th>1</th>\n",
       "      <td>2</td>\n",
       "      <td>4507</td>\n",
       "      <td>1656.69</td>\n",
       "      <td>2024-01-01 00:01:00</td>\n",
       "      <td>Paris</td>\n",
       "      <td>ATM</td>\n",
       "      <td>321</td>\n",
       "      <td>3</td>\n",
       "      <td>0</td>\n",
       "    </tr>\n",
       "    <tr>\n",
       "      <th>2</th>\n",
       "      <td>3</td>\n",
       "      <td>1860</td>\n",
       "      <td>4118.44</td>\n",
       "      <td>2024-01-01 00:02:00</td>\n",
       "      <td>Mumbai</td>\n",
       "      <td>Mobile</td>\n",
       "      <td>39</td>\n",
       "      <td>4</td>\n",
       "      <td>0</td>\n",
       "    </tr>\n",
       "    <tr>\n",
       "      <th>3</th>\n",
       "      <td>4</td>\n",
       "      <td>2294</td>\n",
       "      <td>7778.25</td>\n",
       "      <td>2024-01-01 00:03:00</td>\n",
       "      <td>Berlin</td>\n",
       "      <td>ATM</td>\n",
       "      <td>81</td>\n",
       "      <td>3</td>\n",
       "      <td>0</td>\n",
       "    </tr>\n",
       "    <tr>\n",
       "      <th>4</th>\n",
       "      <td>5</td>\n",
       "      <td>2130</td>\n",
       "      <td>4808.90</td>\n",
       "      <td>2024-01-01 00:04:00</td>\n",
       "      <td>London</td>\n",
       "      <td>Mobile</td>\n",
       "      <td>187</td>\n",
       "      <td>2</td>\n",
       "      <td>0</td>\n",
       "    </tr>\n",
       "  </tbody>\n",
       "</table>\n",
       "</div>"
      ],
      "text/plain": [
       "   transaction_id  account_id   amount            timestamp location  device  \\\n",
       "0               1        4174  5520.36  2024-01-01 00:00:00   Mumbai     ATM   \n",
       "1               2        4507  1656.69  2024-01-01 00:01:00    Paris     ATM   \n",
       "2               3        1860  4118.44  2024-01-01 00:02:00   Mumbai  Mobile   \n",
       "3               4        2294  7778.25  2024-01-01 00:03:00   Berlin     ATM   \n",
       "4               5        2130  4808.90  2024-01-01 00:04:00   London  Mobile   \n",
       "\n",
       "   account_age  previous_fraud_count  fraud_flag  \n",
       "0           94                     1           1  \n",
       "1          321                     3           0  \n",
       "2           39                     4           0  \n",
       "3           81                     3           0  \n",
       "4          187                     2           0  "
      ]
     },
     "execution_count": 2,
     "metadata": {},
     "output_type": "execute_result"
    }
   ],
   "source": [
    "#creating dummy data sets \n",
    "import pandas as pd\n",
    "import numpy as np\n",
    "\n",
    "# Set random seed for reproducibility\n",
    "np.random.seed(42)\n",
    "\n",
    "# Generate sample transaction data\n",
    "num_records = 1000\n",
    "\n",
    "data = {\n",
    "    \"transaction_id\": range(1, num_records + 1),\n",
    "    \"account_id\": np.random.randint(1000, 5000, num_records),\n",
    "    \"amount\": np.random.uniform(10, 10000, num_records).round(2),\n",
    "    \"timestamp\": pd.date_range(start=\"2024-01-01\", periods=num_records, freq=\"T\").astype(str),\n",
    "    \"location\": np.random.choice([\"London\", \"New York\", \"Paris\", \"Berlin\", \"Mumbai\"], num_records),\n",
    "    \"device\": np.random.choice([\"Mobile\", \"Web\", \"ATM\", \"POS\"], num_records),\n",
    "    \"account_age\": np.random.randint(1, 365, num_records),  # Account age in days\n",
    "    \"previous_fraud_count\": np.random.randint(0, 5, num_records),  # Past fraud cases\n",
    "}\n",
    "\n",
    "# Introduce some fraud cases\n",
    "data[\"fraud_flag\"] = np.where(\n",
    "    (data[\"amount\"] > 5000) & (np.random.rand(num_records) > 0.7), 1, 0\n",
    ")\n",
    "\n",
    "# Create DataFrame\n",
    "df = pd.DataFrame(data)\n",
    "\n",
    "# Save to CSV\n",
    "file_path = \"C:\\Risk detection/financial_transactions.csv\"\n",
    "df.to_csv(file_path, index=False)\n",
    "\n",
    "# Display first few rows\n",
    "df.head()\n"
   ]
  },
  {
   "cell_type": "code",
   "execution_count": 4,
   "id": "7028f235",
   "metadata": {},
   "outputs": [
    {
     "name": "stdout",
     "output_type": "stream",
     "text": [
      "   transaction_id  account_id   amount            timestamp location  device  \\\n",
      "0               1        4174  5520.36  2024-01-01 00:00:00   Mumbai     ATM   \n",
      "1               2        4507  1656.69  2024-01-01 00:01:00    Paris     ATM   \n",
      "2               3        1860  4118.44  2024-01-01 00:02:00   Mumbai  Mobile   \n",
      "3               4        2294  7778.25  2024-01-01 00:03:00   Berlin     ATM   \n",
      "4               5        2130  4808.90  2024-01-01 00:04:00   London  Mobile   \n",
      "\n",
      "   account_age  previous_fraud_count  fraud_flag  \n",
      "0           94                     1           1  \n",
      "1          321                     3           0  \n",
      "2           39                     4           0  \n",
      "3           81                     3           0  \n",
      "4          187                     2           0  \n",
      "<class 'pandas.core.frame.DataFrame'>\n",
      "RangeIndex: 1000 entries, 0 to 999\n",
      "Data columns (total 9 columns):\n",
      " #   Column                Non-Null Count  Dtype  \n",
      "---  ------                --------------  -----  \n",
      " 0   transaction_id        1000 non-null   int64  \n",
      " 1   account_id            1000 non-null   int64  \n",
      " 2   amount                1000 non-null   float64\n",
      " 3   timestamp             1000 non-null   object \n",
      " 4   location              1000 non-null   object \n",
      " 5   device                1000 non-null   object \n",
      " 6   account_age           1000 non-null   int64  \n",
      " 7   previous_fraud_count  1000 non-null   int64  \n",
      " 8   fraud_flag            1000 non-null   int64  \n",
      "dtypes: float64(1), int64(5), object(3)\n",
      "memory usage: 70.4+ KB\n",
      "None\n",
      "transaction_id          0\n",
      "account_id              0\n",
      "amount                  0\n",
      "timestamp               0\n",
      "location                0\n",
      "device                  0\n",
      "account_age             0\n",
      "previous_fraud_count    0\n",
      "fraud_flag              0\n",
      "dtype: int64\n"
     ]
    }
   ],
   "source": [
    "import pandas as pd  \n",
    "\n",
    "# Load dataset\n",
    "df = pd.read_csv(\"C:\\Risk detection/financial_transactions.csv\")\n",
    "\n",
    "# Display first 5 rows\n",
    "print(df.head())\n",
    "\n",
    "# Check dataset info\n",
    "print(df.info())\n",
    "\n",
    "# Check for missing values\n",
    "print(df.isnull().sum())\n"
   ]
  },
  {
   "cell_type": "code",
   "execution_count": 5,
   "id": "ac9cd1c9",
   "metadata": {},
   "outputs": [
    {
     "name": "stdout",
     "output_type": "stream",
     "text": [
      "Requirement already satisfied: pyodbc in c:\\users\\kisho\\anaconda3\\lib\\site-packages (4.0.0-unsupported)\n",
      "Requirement already satisfied: pandas in c:\\users\\kisho\\anaconda3\\lib\\site-packages (1.3.4)\n",
      "Requirement already satisfied: sqlalchemy in c:\\users\\kisho\\anaconda3\\lib\\site-packages (1.4.22)\n",
      "Requirement already satisfied: pytz>=2017.3 in c:\\users\\kisho\\anaconda3\\lib\\site-packages (from pandas) (2021.3)\n",
      "Requirement already satisfied: python-dateutil>=2.7.3 in c:\\users\\kisho\\anaconda3\\lib\\site-packages (from pandas) (2.8.2)\n",
      "Requirement already satisfied: numpy>=1.17.3 in c:\\users\\kisho\\anaconda3\\lib\\site-packages (from pandas) (1.20.3)\n",
      "Requirement already satisfied: greenlet!=0.4.17 in c:\\users\\kisho\\anaconda3\\lib\\site-packages (from sqlalchemy) (1.1.1)\n",
      "Requirement already satisfied: six>=1.5 in c:\\users\\kisho\\anaconda3\\lib\\site-packages (from python-dateutil>=2.7.3->pandas) (1.16.0)\n"
     ]
    }
   ],
   "source": [
    "!pip install pyodbc pandas sqlalchemy\n"
   ]
  },
  {
   "cell_type": "code",
   "execution_count": 8,
   "id": "3258e705",
   "metadata": {},
   "outputs": [
    {
     "name": "stdout",
     "output_type": "stream",
     "text": [
      "Connected to SQL Server successfully!\n"
     ]
    }
   ],
   "source": [
    "import pyodbc\n",
    "\n",
    "# Define SQL Server credentials\n",
    "server = 'kichu'  # Example: 'localhost', 'DESKTOP-XXXX', or 'yourdomain.database.windows.net'\n",
    "database = 'fraud_detection'  # Example: 'fraud_detection'\n",
    "username = ''  # Example: 'sa'\n",
    "password = ''  # Replace with your actual password\n",
    "\n",
    "# Create connection string\n",
    "conn = pyodbc.connect(f\"DRIVER={{SQL Server}};SERVER={server};DATABASE={database};UID={username};PWD={password}\")\n",
    "\n",
    "# Test connection\n",
    "print(\"Connected to SQL Server successfully!\")\n"
   ]
  },
  {
   "cell_type": "code",
   "execution_count": 12,
   "id": "d3a301ea",
   "metadata": {},
   "outputs": [
    {
     "name": "stdout",
     "output_type": "stream",
     "text": [
      "   CurrentDatabase\n",
      "0  fraud_detection\n"
     ]
    }
   ],
   "source": [
    "query = \"SELECT DB_NAME() AS CurrentDatabase;\"\n",
    "df = pd.read_sql(query, conn)\n",
    "print(df)\n"
   ]
  },
  {
   "cell_type": "code",
   "execution_count": 13,
   "id": "68928c69",
   "metadata": {},
   "outputs": [
    {
     "name": "stdout",
     "output_type": "stream",
     "text": [
      "Data inserted successfully!\n"
     ]
    }
   ],
   "source": [
    "from sqlalchemy import create_engine\n",
    "\n",
    "# Create engine for SQL Server\n",
    "engine = create_engine(f\"mssql+pyodbc://{username}:{password}@{server}/{database}?driver=SQL+Server\")\n",
    "\n",
    "# Upload DataFrame to SQL Server\n",
    "df.to_sql(\"transactions\", engine, if_exists=\"replace\", index=False)\n",
    "\n",
    "print(\"Data inserted successfully!\")\n"
   ]
  },
  {
   "cell_type": "code",
   "execution_count": 19,
   "id": "499548c6",
   "metadata": {},
   "outputs": [
    {
     "ename": "NameError",
     "evalue": "name 'fraud_detection' is not defined",
     "output_type": "error",
     "traceback": [
      "\u001b[1;31m---------------------------------------------------------------------------\u001b[0m",
      "\u001b[1;31mNameError\u001b[0m                                 Traceback (most recent call last)",
      "\u001b[1;32m~\\AppData\\Local\\Temp/ipykernel_32356/633208992.py\u001b[0m in \u001b[0;36m<module>\u001b[1;34m\u001b[0m\n\u001b[0;32m      9\u001b[0m \u001b[1;33m\u001b[0m\u001b[0m\n\u001b[0;32m     10\u001b[0m \u001b[1;31m# Create a connection to the database\u001b[0m\u001b[1;33m\u001b[0m\u001b[1;33m\u001b[0m\u001b[0m\n\u001b[1;32m---> 11\u001b[1;33m \u001b[0mconn\u001b[0m \u001b[1;33m=\u001b[0m \u001b[0mpyodbc\u001b[0m\u001b[1;33m.\u001b[0m\u001b[0mconnect\u001b[0m\u001b[1;33m(\u001b[0m\u001b[1;34mf\"DRIVER={{ODBC Driver 17 for SQL Server}};SERVER={server};DATABASE={fraud_detection};UID={username};PWD={password}\"\u001b[0m\u001b[1;33m)\u001b[0m\u001b[1;33m\u001b[0m\u001b[1;33m\u001b[0m\u001b[0m\n\u001b[0m\u001b[0;32m     12\u001b[0m \u001b[1;33m\u001b[0m\u001b[0m\n\u001b[0;32m     13\u001b[0m \u001b[1;31m# SQL query to fetch all transactions\u001b[0m\u001b[1;33m\u001b[0m\u001b[1;33m\u001b[0m\u001b[0m\n",
      "\u001b[1;31mNameError\u001b[0m: name 'fraud_detection' is not defined"
     ]
    }
   ],
   "source": [
    "import pyodbc\n",
    "import pandas as pd\n",
    "\n",
    "# SQL Server connection details\n",
    "server = 'kichu'\n",
    "database = 'fraud_detection'  # Replace with your actual database name\n",
    "username = ''\n",
    "password = ''\n",
    "\n",
    "# Create a connection to the database\n",
    "conn = pyodbc.connect(f\"DRIVER={{ODBC Driver 17 for SQL Server}};SERVER={server};DATABASE={fraud_detection};UID={username};PWD={password}\")\n",
    "\n",
    "# SQL query to fetch all transactions\n",
    "query = \"SELECT * FROM dbo.transactions\"\n",
    "\n",
    "# Execute query and store results in a DataFrame\n",
    "df = pd.read_sql(query, conn)\n",
    "\n",
    "# Display the first few rows of the DataFrame\n",
    "print(df.head())\n"
   ]
  },
  {
   "cell_type": "code",
   "execution_count": 26,
   "id": "c0564a84",
   "metadata": {},
   "outputs": [
    {
     "name": "stdout",
     "output_type": "stream",
     "text": [
      "   transaction_id    amount        transaction_date\n",
      "0               1  17653.91 2025-03-22 01:40:49.057\n",
      "1               2  18764.70 2025-03-22 01:40:49.060\n",
      "2               3   3365.91 2025-03-22 01:40:49.060\n",
      "3               4  11683.41 2025-03-22 01:40:49.060\n",
      "4               5   8238.10 2025-03-22 01:40:49.060\n"
     ]
    }
   ],
   "source": [
    "import pyodbc\n",
    "import pandas as pd\n",
    "\n",
    "# Define your connection parameters\n",
    "server = 'kichu'  # Replace with your actual server name\n",
    "database = 'fraud_detection'  # Replace with your actual database name\n",
    "\n",
    "# Establish connection to the database using Windows Authentication (Trusted Connection)\n",
    "conn = pyodbc.connect(f\"DRIVER={{ODBC Driver 17 for SQL Server}};SERVER={server};DATABASE={database};Trusted_Connection=yes\")\n",
    "\n",
    "# SQL query to fetch all transactions\n",
    "query = \"SELECT * FROM dbo.transactions\"\n",
    "\n",
    "# Execute query and store results in a DataFrame\n",
    "df = pd.read_sql(query, conn)\n",
    "\n",
    "# Display the first few rows of the DataFrame\n",
    "print(df.head())\n"
   ]
  },
  {
   "cell_type": "code",
   "execution_count": 27,
   "id": "1326ab81",
   "metadata": {},
   "outputs": [
    {
     "name": "stdout",
     "output_type": "stream",
     "text": [
      "    transaction_id    amount        transaction_date\n",
      "0                1  17653.91 2025-03-22 01:40:49.057\n",
      "1                2  18764.70 2025-03-22 01:40:49.060\n",
      "2                4  11683.41 2025-03-22 01:40:49.060\n",
      "3                5   8238.10 2025-03-22 01:40:49.060\n",
      "4                7   6606.66 2025-03-22 01:40:49.060\n",
      "..             ...       ...                     ...\n",
      "69              94   5282.88 2025-03-22 01:40:49.077\n",
      "70              95   7407.42 2025-03-22 01:40:49.077\n",
      "71              96  15968.00 2025-03-22 01:40:49.077\n",
      "72              98  12015.73 2025-03-22 01:40:49.077\n",
      "73              99  17671.54 2025-03-22 01:40:49.077\n",
      "\n",
      "[74 rows x 3 columns]\n"
     ]
    }
   ],
   "source": [
    "import pyodbc\n",
    "import pandas as pd\n",
    "\n",
    "# Define your connection parameters\n",
    "server = 'kichu'  # Replace with your actual server name\n",
    "database = 'fraud_detection'  # Replace with your actual database name\n",
    "\n",
    "# Establish connection to the database using Windows Authentication (Trusted Connection)\n",
    "conn = pyodbc.connect(f\"DRIVER={{ODBC Driver 17 for SQL Server}};SERVER={server};DATABASE={database};Trusted_Connection=yes\")\n",
    "\n",
    "# SQL Query to fetch transactions above 5000\n",
    "query = \"SELECT * FROM dbo.transactions WHERE amount > 5000;\"\n",
    "\n",
    "# Execute query and fetch results into DataFrame\n",
    "df = pd.read_sql(query, conn)\n",
    "\n",
    "# Display the result\n",
    "print(df)\n"
   ]
  },
  {
   "cell_type": "code",
   "execution_count": 28,
   "id": "f06e8ef6",
   "metadata": {},
   "outputs": [
    {
     "name": "stdout",
     "output_type": "stream",
     "text": [
      "    transaction_id   amount        transaction_date\n",
      "0                3  3365.91 2025-03-22 01:40:49.060\n",
      "1                6  2908.84 2025-03-22 01:40:49.060\n",
      "2               12  3844.71 2025-03-22 01:40:49.063\n",
      "3               19  3996.98 2025-03-22 01:40:49.063\n",
      "4               21  4475.00 2025-03-22 01:40:49.063\n",
      "5               29  1459.68 2025-03-22 01:40:49.067\n",
      "6               32  4538.16 2025-03-22 01:40:49.067\n",
      "7               34  2917.78 2025-03-22 01:40:49.067\n",
      "8               36  2939.42 2025-03-22 01:40:49.067\n",
      "9               41  1094.42 2025-03-22 01:40:49.067\n",
      "10              44  4189.43 2025-03-22 01:40:49.067\n",
      "11              46  1562.03 2025-03-22 01:40:49.067\n",
      "12              47  4820.31 2025-03-22 01:40:49.067\n",
      "13              52  2579.18 2025-03-22 01:40:49.070\n",
      "14              55  4454.86 2025-03-22 01:40:49.070\n",
      "15              59  1476.45 2025-03-22 01:40:49.070\n",
      "16              61  1852.38 2025-03-22 01:40:49.070\n",
      "17              65  2003.56 2025-03-22 01:40:49.070\n",
      "18              68  3898.51 2025-03-22 01:40:49.070\n",
      "19              78  2316.78 2025-03-22 01:40:49.073\n",
      "20              82  1813.36 2025-03-22 01:40:49.073\n",
      "21              83  2412.27 2025-03-22 01:40:49.073\n",
      "22              89  4238.29 2025-03-22 01:40:49.077\n",
      "23              93  3303.74 2025-03-22 01:40:49.077\n",
      "24              97  3530.38 2025-03-22 01:40:49.077\n",
      "25             100  3914.51 2025-03-22 01:40:49.080\n"
     ]
    }
   ],
   "source": [
    "import pyodbc\n",
    "import pandas as pd\n",
    "\n",
    "# Define your connection parameters\n",
    "server = 'kichu'  # Replace with your actual server name\n",
    "database = 'fraud_detection'  # Replace with your actual database name\n",
    "\n",
    "# Establish connection to the database using Windows Authentication (Trusted Connection)\n",
    "conn = pyodbc.connect(f\"DRIVER={{ODBC Driver 17 for SQL Server}};SERVER={server};DATABASE={database};Trusted_Connection=yes\")\n",
    "\n",
    "# SQL Query to fetch transactions above 5000\n",
    "query = \"SELECT * FROM dbo.transactions WHERE amount <= 5000;\"\n",
    "\n",
    "# Execute query and fetch results into DataFrame\n",
    "df = pd.read_sql(query, conn)\n",
    "\n",
    "# Display the result\n",
    "print(df)\n"
   ]
  },
  {
   "cell_type": "code",
   "execution_count": 29,
   "id": "517c0cfc",
   "metadata": {},
   "outputs": [
    {
     "name": "stdout",
     "output_type": "stream",
     "text": [
      "    transaction_id   amount        detection\n",
      "0                3  3365.91  Below Threshold\n",
      "1                6  2908.84  Below Threshold\n",
      "2               12  3844.71  Below Threshold\n",
      "3               19  3996.98  Below Threshold\n",
      "4               21  4475.00  Below Threshold\n",
      "5               29  1459.68  Below Threshold\n",
      "6               32  4538.16  Below Threshold\n",
      "7               34  2917.78  Below Threshold\n",
      "8               36  2939.42  Below Threshold\n",
      "9               41  1094.42  Below Threshold\n",
      "10              44  4189.43  Below Threshold\n",
      "11              46  1562.03  Below Threshold\n",
      "12              47  4820.31  Below Threshold\n",
      "13              52  2579.18  Below Threshold\n",
      "14              55  4454.86  Below Threshold\n",
      "15              59  1476.45  Below Threshold\n",
      "16              61  1852.38  Below Threshold\n",
      "17              65  2003.56  Below Threshold\n",
      "18              68  3898.51  Below Threshold\n",
      "19              78  2316.78  Below Threshold\n",
      "20              82  1813.36  Below Threshold\n",
      "21              83  2412.27  Below Threshold\n",
      "22              89  4238.29  Below Threshold\n",
      "23              93  3303.74  Below Threshold\n",
      "24              97  3530.38  Below Threshold\n",
      "25             100  3914.51  Below Threshold\n"
     ]
    }
   ],
   "source": [
    "def detect_threshold(amount, threshold=5000):\n",
    "    if amount > threshold:\n",
    "        return \"Above Threshold\"\n",
    "    else:\n",
    "        return \"Below Threshold\"\n",
    "\n",
    "# Apply the detection function to the dataframe\n",
    "df['detection'] = df['amount'].apply(detect_threshold)\n",
    "\n",
    "# Display the result with detection\n",
    "print(df[['transaction_id', 'amount', 'detection']])\n"
   ]
  },
  {
   "cell_type": "code",
   "execution_count": 30,
   "id": "2f43607e",
   "metadata": {},
   "outputs": [
    {
     "name": "stdout",
     "output_type": "stream",
     "text": [
      "Requirement already satisfied: matplotlib in c:\\users\\kisho\\anaconda3\\lib\\site-packages (3.4.3)\n",
      "Requirement already satisfied: seaborn in c:\\users\\kisho\\anaconda3\\lib\\site-packages (0.11.2)\n",
      "Requirement already satisfied: pandas in c:\\users\\kisho\\anaconda3\\lib\\site-packages (1.3.4)\n",
      "Requirement already satisfied: pyodbc in c:\\users\\kisho\\anaconda3\\lib\\site-packages (4.0.0-unsupported)\n",
      "Requirement already satisfied: python-dateutil>=2.7 in c:\\users\\kisho\\anaconda3\\lib\\site-packages (from matplotlib) (2.8.2)\n",
      "Requirement already satisfied: numpy>=1.16 in c:\\users\\kisho\\anaconda3\\lib\\site-packages (from matplotlib) (1.20.3)\n",
      "Requirement already satisfied: pillow>=6.2.0 in c:\\users\\kisho\\anaconda3\\lib\\site-packages (from matplotlib) (8.4.0)\n",
      "Requirement already satisfied: kiwisolver>=1.0.1 in c:\\users\\kisho\\anaconda3\\lib\\site-packages (from matplotlib) (1.3.1)\n",
      "Requirement already satisfied: cycler>=0.10 in c:\\users\\kisho\\anaconda3\\lib\\site-packages (from matplotlib) (0.10.0)\n",
      "Requirement already satisfied: pyparsing>=2.2.1 in c:\\users\\kisho\\anaconda3\\lib\\site-packages (from matplotlib) (3.0.4)\n",
      "Requirement already satisfied: scipy>=1.0 in c:\\users\\kisho\\anaconda3\\lib\\site-packages (from seaborn) (1.7.1)\n",
      "Requirement already satisfied: pytz>=2017.3 in c:\\users\\kisho\\anaconda3\\lib\\site-packages (from pandas) (2021.3)\n",
      "Requirement already satisfied: six in c:\\users\\kisho\\anaconda3\\lib\\site-packages (from cycler>=0.10->matplotlib) (1.16.0)\n",
      "Note: you may need to restart the kernel to use updated packages.\n"
     ]
    }
   ],
   "source": [
    "pip install matplotlib seaborn pandas pyodbc\n"
   ]
  },
  {
   "cell_type": "code",
   "execution_count": 34,
   "id": "dc071da1",
   "metadata": {},
   "outputs": [
    {
     "name": "stdout",
     "output_type": "stream",
     "text": [
      "   transaction_id    amount        transaction_date\n",
      "0               1  17653.91 2025-03-22 01:40:49.057\n",
      "1               2  18764.70 2025-03-22 01:40:49.060\n",
      "2               3   3365.91 2025-03-22 01:40:49.060\n",
      "3               4  11683.41 2025-03-22 01:40:49.060\n",
      "4               5   8238.10 2025-03-22 01:40:49.060\n"
     ]
    }
   ],
   "source": [
    "import pyodbc\n",
    "import pandas as pd\n",
    "import matplotlib.pyplot as plt\n",
    "import seaborn as sns\n",
    "\n",
    "# Define database connection\n",
    "server = 'localhost'  # Replace with your server name\n",
    "database = 'fraud_detection'  # Replace with your database name\n",
    "conn = pyodbc.connect(f\"DRIVER={{ODBC Driver 17 for SQL Server}};SERVER={server};DATABASE={database};Trusted_Connection=yes\")\n",
    "\n",
    "# Load transactions data\n",
    "query = \"SELECT * FROM dbo.transactions\"\n",
    "df = pd.read_sql(query, conn)\n",
    "\n",
    "# Convert transaction_date to datetime format\n",
    "df['transaction_date'] = pd.to_datetime(df['transaction_date'])\n",
    "\n",
    "# Display first 5 rows\n",
    "print(df.head())\n"
   ]
  },
  {
   "cell_type": "code",
   "execution_count": 35,
   "id": "214a5763",
   "metadata": {},
   "outputs": [
    {
     "data": {
      "image/png": "[encoded data removed]",
      "text/plain": [
       "<Figure size 720x432 with 1 Axes>"
      ]
     },
     "metadata": {
      "needs_background": "light"
     },
     "output_type": "display_data"
    }
   ],
   "source": [
    "plt.figure(figsize=(10, 6))\n",
    "sns.histplot(df['amount'], bins=30, kde=True, color='blue')\n",
    "plt.xlabel('Transaction Amount ($)')\n",
    "plt.ylabel('Frequency')\n",
    "plt.title('Distribution of Transaction Amounts')\n",
    "plt.show()\n"
   ]
  },
  {
   "cell_type": "code",
   "execution_count": 36,
   "id": "cee0ead6",
   "metadata": {},
   "outputs": [
    {
     "data": {
      "image/png": "[encoded data removed]",
      "text/plain": [
       "<Figure size 576x360 with 1 Axes>"
      ]
     },
     "metadata": {
      "needs_background": "light"
     },
     "output_type": "display_data"
    }
   ],
   "source": [
    "plt.figure(figsize=(8, 5))\n",
    "sns.boxplot(x=df['amount'], color='red')\n",
    "plt.xlabel('Transaction Amount ($)')\n",
    "plt.title('Boxplot of Transaction Amounts')\n",
    "plt.show()\n"
   ]
  },
  {
   "cell_type": "code",
   "execution_count": 37,
   "id": "7f3c68a0",
   "metadata": {},
   "outputs": [
    {
     "data": {
      "image/png": "[encoded data removed]",
      "text/plain": [
       "<Figure size 864x432 with 1 Axes>"
      ]
     },
     "metadata": {
      "needs_background": "light"
     },
     "output_type": "display_data"
    }
   ],
   "source": [
    "df['date_only'] = df['transaction_date'].dt.date\n",
    "daily_trend = df.groupby('date_only').size()\n",
    "\n",
    "plt.figure(figsize=(12, 6))\n",
    "daily_trend.plot(marker='o', linestyle='-')\n",
    "plt.xlabel('Date')\n",
    "plt.ylabel('Number of Transactions')\n",
    "plt.title('Daily Number of Transactions')\n",
    "plt.xticks(rotation=45)\n",
    "plt.show()\n"
   ]
  },
  {
   "cell_type": "code",
   "execution_count": 38,
   "id": "5018d171",
   "metadata": {},
   "outputs": [
    {
     "data": {
      "image/png": "[encoded data removed]",
      "text/plain": [
       "<Figure size 432x432 with 1 Axes>"
      ]
     },
     "metadata": {
      "needs_background": "light"
     },
     "output_type": "display_data"
    }
   ],
   "source": [
    "# Creating a fake fraud column for visualization purposes\n",
    "import numpy as np\n",
    "df['fraud_label'] = np.random.choice([0, 1], size=len(df), p=[0.9, 0.1])  # 10% fraud\n",
    "\n",
    "plt.figure(figsize=(6, 6))\n",
    "sns.countplot(x=df['fraud_label'], palette=['blue', 'red'])\n",
    "plt.xticks([0, 1], ['Legit', 'Fraud'])\n",
    "plt.xlabel('Transaction Type')\n",
    "plt.ylabel('Count')\n",
    "plt.title('Fraud vs. Legitimate Transactions')\n",
    "plt.show()\n"
   ]
  },
  {
   "cell_type": "code",
   "execution_count": 39,
   "id": "71b82555",
   "metadata": {},
   "outputs": [
    {
     "data": {
      "image/png": "[encoded data removed]",
      "text/plain": [
       "<Figure size 720x360 with 1 Axes>"
      ]
     },
     "metadata": {
      "needs_background": "light"
     },
     "output_type": "display_data"
    }
   ],
   "source": [
    "plt.figure(figsize=(10, 5))\n",
    "sns.scatterplot(x=df.index, y=df['amount'], hue=df['fraud_label'], palette=['blue', 'red'])\n",
    "plt.xlabel('Transaction Index')\n",
    "plt.ylabel('Amount ($)')\n",
    "plt.title('Scatter Plot of Transactions')\n",
    "plt.show()\n"
   ]
  },
  {
   "cell_type": "code",
   "execution_count": 40,
   "id": "74a4a93b",
   "metadata": {},
   "outputs": [],
   "source": [
    "#feature engineering \n",
    "import pandas as pd\n",
    "import pyodbc\n",
    "from sklearn.model_selection import train_test_split\n",
    "from sklearn.preprocessing import StandardScaler\n",
    "\n",
    "# Connect to SQL Server\n",
    "server = 'localhost'\n",
    "database = 'fraud_detection'\n",
    "conn = pyodbc.connect(f\"DRIVER={{ODBC Driver 17 for SQL Server}};SERVER={server};DATABASE={database};Trusted_Connection=yes\")\n",
    "\n",
    "# Load enhanced dataset\n",
    "query = \"\"\"\n",
    "SELECT \n",
    "    transaction_id, amount, transaction_date, \n",
    "    DATEPART(HOUR, transaction_date) AS transaction_hour,\n",
    "    DATEDIFF(DAY, MIN(transaction_date) OVER (), transaction_date) AS days_since_first_txn,\n",
    "    COUNT(*) OVER (PARTITION BY transaction_date) AS transactions_per_day,\n",
    "    AVG(amount) OVER (PARTITION BY transaction_date) AS avg_amount_per_day\n",
    "FROM dbo.transactions;\n",
    "\"\"\"\n",
    "df = pd.read_sql(query, conn)\n",
    "\n",
    "# Convert transaction_date to datetime\n",
    "df['transaction_date'] = pd.to_datetime(df['transaction_date'])\n",
    "\n",
    "# Create fraud labels randomly (for demonstration, ideally you'd have real fraud labels)\n",
    "import numpy as np\n",
    "df['fraud_label'] = np.random.choice([0, 1], size=len(df), p=[0.9, 0.1])  # 10% fraud\n",
    "\n",
    "# Select features and target\n",
    "X = df[['amount', 'transaction_hour', 'days_since_first_txn', 'transactions_per_day', 'avg_amount_per_day']]\n",
    "y = df['fraud_label']\n",
    "\n",
    "# Scale numeric features\n",
    "scaler = StandardScaler()\n",
    "X_scaled = scaler.fit_transform(X)\n",
    "\n",
    "# Split into Train/Test\n",
    "X_train, X_test, y_train, y_test = train_test_split(X_scaled, y, test_size=0.2, random_state=42)\n"
   ]
  },
  {
   "cell_type": "code",
   "execution_count": 41,
   "id": "05a04c1e",
   "metadata": {},
   "outputs": [
    {
     "name": "stdout",
     "output_type": "stream",
     "text": [
      "Accuracy: 0.90\n",
      "Precision: 0.00\n",
      "Recall: 0.00\n",
      "F1 Score: 0.00\n"
     ]
    },
    {
     "name": "stderr",
     "output_type": "stream",
     "text": [
      "C:\\Users\\kisho\\anaconda3\\lib\\site-packages\\sklearn\\metrics\\_classification.py:1248: UndefinedMetricWarning: Precision is ill-defined and being set to 0.0 due to no predicted samples. Use `zero_division` parameter to control this behavior.\n",
      "  _warn_prf(average, modifier, msg_start, len(result))\n"
     ]
    }
   ],
   "source": [
    "from sklearn.linear_model import LogisticRegression\n",
    "from sklearn.metrics import accuracy_score, precision_score, recall_score, f1_score\n",
    "\n",
    "# Train model\n",
    "model = LogisticRegression()\n",
    "model.fit(X_train, y_train)\n",
    "\n",
    "# Predictions\n",
    "y_pred = model.predict(X_test)\n",
    "\n",
    "# Evaluate model\n",
    "accuracy = accuracy_score(y_test, y_pred)\n",
    "precision = precision_score(y_test, y_pred)\n",
    "recall = recall_score(y_test, y_pred)\n",
    "f1 = f1_score(y_test, y_pred)\n",
    "\n",
    "print(f\"Accuracy: {accuracy:.2f}\")\n",
    "print(f\"Precision: {precision:.2f}\")\n",
    "print(f\"Recall: {recall:.2f}\")\n",
    "print(f\"F1 Score: {f1:.2f}\")\n"
   ]
  },
  {
   "cell_type": "code",
   "execution_count": 42,
   "id": "518b3ee9",
   "metadata": {},
   "outputs": [
    {
     "data": {
      "image/png": "[encoded data removed]",
      "text/plain": [
       "<Figure size 720x432 with 1 Axes>"
      ]
     },
     "metadata": {
      "needs_background": "light"
     },
     "output_type": "display_data"
    }
   ],
   "source": [
    "import seaborn as sns\n",
    "import matplotlib.pyplot as plt\n",
    "plt.figure(figsize=(10, 6))\n",
    "sns.histplot(df[df['fraud_label'] == 0]['amount'], bins=30, color='blue', label='Legit', kde=True)\n",
    "sns.histplot(df[df['fraud_label'] == 1]['amount'], bins=30, color='red', label='Fraud', kde=True)\n",
    "plt.xlabel('Transaction Amount')\n",
    "plt.ylabel('Frequency')\n",
    "plt.title('Transaction Amount Distribution: Fraud vs. Legitimate')\n",
    "plt.legend()\n",
    "plt.show()\n"
   ]
  },
  {
   "cell_type": "code",
   "execution_count": 43,
   "id": "2e3bfca4",
   "metadata": {},
   "outputs": [
    {
     "data": {
      "image/png": "[encoded data removed]",
      "text/plain": [
       "<Figure size 576x360 with 1 Axes>"
      ]
     },
     "metadata": {
      "needs_background": "light"
     },
     "output_type": "display_data"
    }
   ],
   "source": [
    "from sklearn.ensemble import RandomForestClassifier\n",
    "\n",
    "rf_model = RandomForestClassifier(n_estimators=100, random_state=42)\n",
    "rf_model.fit(X_train, y_train)\n",
    "\n",
    "# Feature Importance Plot\n",
    "feature_importance = pd.Series(rf_model.feature_importances_, index=X.columns).sort_values(ascending=False)\n",
    "\n",
    "plt.figure(figsize=(8, 5))\n",
    "sns.barplot(x=feature_importance, y=feature_importance.index, palette='Blues_r')\n",
    "plt.xlabel('Importance Score')\n",
    "plt.ylabel('Feature')\n",
    "plt.title('Feature Importance in Fraud Detection')\n",
    "plt.show()\n"
   ]
  },
  {
   "cell_type": "code",
   "execution_count": null,
   "id": "97c37db7",
   "metadata": {},
   "outputs": [],
   "source": []
  }
 ],
 "metadata": {
  "kernelspec": {
   "display_name": "Python 3 (ipykernel)",
   "language": "python",
   "name": "python3"
  },
  "language_info": {
   "codemirror_mode": {
    "name": "ipython",
    "version": 3
   },
   "file_extension": ".py",
   "mimetype": "text/x-python",
   "name": "python",
   "nbconvert_exporter": "python",
   "pygments_lexer": "ipython3",
   "version": "3.9.7"
  }
 },
 "nbformat": 4,
 "nbformat_minor": 5
}
